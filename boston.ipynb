{
  "nbformat": 4,
  "nbformat_minor": 0,
  "metadata": {
    "colab": {
      "name": "boston.ipynb",
      "version": "0.3.2",
      "provenance": [],
      "collapsed_sections": [],
      "include_colab_link": true
    },
    "kernelspec": {
      "name": "python3",
      "display_name": "Python 3"
    },
    "accelerator": "TPU"
  },
  "cells": [
    {
      "cell_type": "markdown",
      "metadata": {
        "id": "view-in-github",
        "colab_type": "text"
      },
      "source": [
        "<a href=\"https://colab.research.google.com/github/MarinaaaniraM/deep_test/blob/master/boston.ipynb\" target=\"_parent\"><img src=\"https://colab.research.google.com/assets/colab-badge.svg\" alt=\"Open In Colab\"/></a>"
      ]
    },
    {
      "metadata": {
        "id": "73LkwPqI4ycR",
        "colab_type": "code",
        "colab": {
          "base_uri": "https://localhost:8080/",
          "height": 68
        },
        "outputId": "0d0d2945-1106-49e8-8b80-7869223464d0"
      },
      "cell_type": "code",
      "source": [
        "from keras.datasets import boston_housing\n",
        "from keras.models import Sequential\n",
        "from keras.layers import Dense\n",
        "\n",
        "(x_train, y_train), (x_test, y_test) = boston_housing.load_data()"
      ],
      "execution_count": 2,
      "outputs": [
        {
          "output_type": "stream",
          "text": [
            "Using TensorFlow backend.\n"
          ],
          "name": "stderr"
        },
        {
          "output_type": "stream",
          "text": [
            "Downloading data from https://s3.amazonaws.com/keras-datasets/boston_housing.npz\n",
            "57344/57026 [==============================] - 0s 1us/step\n"
          ],
          "name": "stdout"
        }
      ]
    },
    {
      "metadata": {
        "id": "uIicY7jP41iG",
        "colab_type": "code",
        "colab": {}
      },
      "cell_type": "code",
      "source": [
        "# Среднее значение\n",
        "mean = x_train.mean(axis=0)\n",
        "# Стандартное отклонение\n",
        "std = x_train.std(axis=0)\n",
        "x_train -= mean\n",
        "x_train /= std\n",
        "x_test -= mean\n",
        "x_test /= std"
      ],
      "execution_count": 0,
      "outputs": []
    },
    {
      "metadata": {
        "id": "CjvuUNWZ427m",
        "colab_type": "code",
        "colab": {}
      },
      "cell_type": "code",
      "source": [
        "model = Sequential()\n",
        "model.add(Dense(128, activation='relu', input_shape=(x_train.shape[1],)))\n",
        "model.add(Dense(1))\n",
        "model.compile(optimizer='adam', loss='mse', metrics=['mae'])"
      ],
      "execution_count": 0,
      "outputs": []
    },
    {
      "metadata": {
        "id": "wh06fmiC44pw",
        "colab_type": "code",
        "colab": {
          "base_uri": "https://localhost:8080/",
          "height": 3434
        },
        "outputId": "96cb9923-d65e-4dca-d904-2f36be5d105e"
      },
      "cell_type": "code",
      "source": [
        "model.fit(x_train, y_train, epochs=100, batch_size=1, verbose=2)"
      ],
      "execution_count": 5,
      "outputs": [
        {
          "output_type": "stream",
          "text": [
            "Epoch 1/100\n",
            " - 2s - loss: 328.9401 - mean_absolute_error: 15.3682\n",
            "Epoch 2/100\n",
            " - 1s - loss: 42.4152 - mean_absolute_error: 4.3147\n",
            "Epoch 3/100\n",
            " - 1s - loss: 27.0113 - mean_absolute_error: 3.5318\n",
            "Epoch 4/100\n",
            " - 1s - loss: 22.3554 - mean_absolute_error: 3.2833\n",
            "Epoch 5/100\n",
            " - 1s - loss: 19.3979 - mean_absolute_error: 3.1133\n",
            "Epoch 6/100\n",
            " - 1s - loss: 16.8460 - mean_absolute_error: 2.9228\n",
            "Epoch 7/100\n",
            " - 1s - loss: 15.1858 - mean_absolute_error: 2.7449\n",
            "Epoch 8/100\n",
            " - 1s - loss: 13.4247 - mean_absolute_error: 2.5636\n",
            "Epoch 9/100\n",
            " - 1s - loss: 11.7540 - mean_absolute_error: 2.4106\n",
            "Epoch 10/100\n",
            " - 1s - loss: 11.3622 - mean_absolute_error: 2.3878\n",
            "Epoch 11/100\n",
            " - 1s - loss: 10.8162 - mean_absolute_error: 2.2911\n",
            "Epoch 12/100\n",
            " - 1s - loss: 10.1603 - mean_absolute_error: 2.2139\n",
            "Epoch 13/100\n",
            " - 1s - loss: 9.6682 - mean_absolute_error: 2.1958\n",
            "Epoch 14/100\n",
            " - 1s - loss: 9.6246 - mean_absolute_error: 2.1638\n",
            "Epoch 15/100\n",
            " - 1s - loss: 9.3244 - mean_absolute_error: 2.1363\n",
            "Epoch 16/100\n",
            " - 1s - loss: 9.3680 - mean_absolute_error: 2.1467\n",
            "Epoch 17/100\n",
            " - 1s - loss: 8.9190 - mean_absolute_error: 2.1591\n",
            "Epoch 18/100\n",
            " - 1s - loss: 8.5981 - mean_absolute_error: 2.0244\n",
            "Epoch 19/100\n",
            " - 1s - loss: 8.5188 - mean_absolute_error: 2.0492\n",
            "Epoch 20/100\n",
            " - 1s - loss: 8.1639 - mean_absolute_error: 2.0186\n",
            "Epoch 21/100\n",
            " - 1s - loss: 8.1017 - mean_absolute_error: 2.0031\n",
            "Epoch 22/100\n",
            " - 1s - loss: 8.1483 - mean_absolute_error: 1.9919\n",
            "Epoch 23/100\n",
            " - 1s - loss: 7.9846 - mean_absolute_error: 2.0053\n",
            "Epoch 24/100\n",
            " - 1s - loss: 7.7597 - mean_absolute_error: 1.9464\n",
            "Epoch 25/100\n",
            " - 1s - loss: 7.7591 - mean_absolute_error: 1.9623\n",
            "Epoch 26/100\n",
            " - 1s - loss: 7.4026 - mean_absolute_error: 1.9058\n",
            "Epoch 27/100\n",
            " - 1s - loss: 7.4196 - mean_absolute_error: 1.9332\n",
            "Epoch 28/100\n",
            " - 1s - loss: 7.5856 - mean_absolute_error: 1.9292\n",
            "Epoch 29/100\n",
            " - 1s - loss: 7.2619 - mean_absolute_error: 1.9068\n",
            "Epoch 30/100\n",
            " - 1s - loss: 7.0721 - mean_absolute_error: 1.8697\n",
            "Epoch 31/100\n",
            " - 1s - loss: 7.3615 - mean_absolute_error: 1.9081\n",
            "Epoch 32/100\n",
            " - 1s - loss: 7.0183 - mean_absolute_error: 1.8696\n",
            "Epoch 33/100\n",
            " - 1s - loss: 6.8013 - mean_absolute_error: 1.8670\n",
            "Epoch 34/100\n",
            " - 1s - loss: 6.8524 - mean_absolute_error: 1.8420\n",
            "Epoch 35/100\n",
            " - 1s - loss: 6.7944 - mean_absolute_error: 1.8654\n",
            "Epoch 36/100\n",
            " - 1s - loss: 6.7597 - mean_absolute_error: 1.8539\n",
            "Epoch 37/100\n",
            " - 1s - loss: 6.7249 - mean_absolute_error: 1.8347\n",
            "Epoch 38/100\n",
            " - 1s - loss: 6.5556 - mean_absolute_error: 1.8208\n",
            "Epoch 39/100\n",
            " - 1s - loss: 6.5142 - mean_absolute_error: 1.8130\n",
            "Epoch 40/100\n",
            " - 1s - loss: 6.3343 - mean_absolute_error: 1.7839\n",
            "Epoch 41/100\n",
            " - 1s - loss: 6.3789 - mean_absolute_error: 1.7792\n",
            "Epoch 42/100\n",
            " - 1s - loss: 6.2585 - mean_absolute_error: 1.7790\n",
            "Epoch 43/100\n",
            " - 1s - loss: 6.5008 - mean_absolute_error: 1.8240\n",
            "Epoch 44/100\n",
            " - 1s - loss: 6.2251 - mean_absolute_error: 1.7420\n",
            "Epoch 45/100\n",
            " - 1s - loss: 6.0340 - mean_absolute_error: 1.7481\n",
            "Epoch 46/100\n",
            " - 1s - loss: 6.1244 - mean_absolute_error: 1.7594\n",
            "Epoch 47/100\n",
            " - 1s - loss: 6.1774 - mean_absolute_error: 1.7653\n",
            "Epoch 48/100\n",
            " - 1s - loss: 6.0723 - mean_absolute_error: 1.7494\n",
            "Epoch 49/100\n",
            " - 1s - loss: 6.0255 - mean_absolute_error: 1.7306\n",
            "Epoch 50/100\n",
            " - 1s - loss: 6.0017 - mean_absolute_error: 1.7473\n",
            "Epoch 51/100\n",
            " - 1s - loss: 5.7686 - mean_absolute_error: 1.6966\n",
            "Epoch 52/100\n",
            " - 1s - loss: 5.7690 - mean_absolute_error: 1.6985\n",
            "Epoch 53/100\n",
            " - 1s - loss: 5.6610 - mean_absolute_error: 1.6752\n",
            "Epoch 54/100\n",
            " - 1s - loss: 5.5313 - mean_absolute_error: 1.6867\n",
            "Epoch 55/100\n",
            " - 1s - loss: 5.7079 - mean_absolute_error: 1.6984\n",
            "Epoch 56/100\n",
            " - 1s - loss: 5.5477 - mean_absolute_error: 1.6665\n",
            "Epoch 57/100\n",
            " - 1s - loss: 5.6582 - mean_absolute_error: 1.6524\n",
            "Epoch 58/100\n",
            " - 1s - loss: 5.4638 - mean_absolute_error: 1.6544\n",
            "Epoch 59/100\n",
            " - 1s - loss: 5.4771 - mean_absolute_error: 1.6459\n",
            "Epoch 60/100\n",
            " - 1s - loss: 5.5599 - mean_absolute_error: 1.6422\n",
            "Epoch 61/100\n",
            " - 1s - loss: 5.4742 - mean_absolute_error: 1.6676\n",
            "Epoch 62/100\n",
            " - 1s - loss: 5.3769 - mean_absolute_error: 1.6405\n",
            "Epoch 63/100\n",
            " - 1s - loss: 5.2726 - mean_absolute_error: 1.6381\n",
            "Epoch 64/100\n",
            " - 1s - loss: 5.2802 - mean_absolute_error: 1.6490\n",
            "Epoch 65/100\n",
            " - 1s - loss: 5.1793 - mean_absolute_error: 1.6001\n",
            "Epoch 66/100\n",
            " - 1s - loss: 5.3544 - mean_absolute_error: 1.6464\n",
            "Epoch 67/100\n",
            " - 1s - loss: 5.2721 - mean_absolute_error: 1.6466\n",
            "Epoch 68/100\n",
            " - 1s - loss: 5.1784 - mean_absolute_error: 1.5980\n",
            "Epoch 69/100\n",
            " - 1s - loss: 5.0773 - mean_absolute_error: 1.6196\n",
            "Epoch 70/100\n",
            " - 1s - loss: 4.8904 - mean_absolute_error: 1.5643\n",
            "Epoch 71/100\n",
            " - 1s - loss: 4.9010 - mean_absolute_error: 1.5461\n",
            "Epoch 72/100\n",
            " - 1s - loss: 4.8277 - mean_absolute_error: 1.5614\n",
            "Epoch 73/100\n",
            " - 1s - loss: 4.8529 - mean_absolute_error: 1.6030\n",
            "Epoch 74/100\n",
            " - 1s - loss: 4.6965 - mean_absolute_error: 1.5471\n",
            "Epoch 75/100\n",
            " - 1s - loss: 4.8629 - mean_absolute_error: 1.5641\n",
            "Epoch 76/100\n",
            " - 1s - loss: 4.9119 - mean_absolute_error: 1.6219\n",
            "Epoch 77/100\n",
            " - 1s - loss: 4.6800 - mean_absolute_error: 1.5100\n",
            "Epoch 78/100\n",
            " - 1s - loss: 4.6348 - mean_absolute_error: 1.5568\n",
            "Epoch 79/100\n",
            " - 1s - loss: 4.7612 - mean_absolute_error: 1.5866\n",
            "Epoch 80/100\n",
            " - 1s - loss: 4.5568 - mean_absolute_error: 1.4820\n",
            "Epoch 81/100\n",
            " - 1s - loss: 4.7444 - mean_absolute_error: 1.5488\n",
            "Epoch 82/100\n",
            " - 1s - loss: 4.5773 - mean_absolute_error: 1.5328\n",
            "Epoch 83/100\n",
            " - 1s - loss: 4.6170 - mean_absolute_error: 1.5211\n",
            "Epoch 84/100\n",
            " - 1s - loss: 4.6385 - mean_absolute_error: 1.5312\n",
            "Epoch 85/100\n",
            " - 1s - loss: 4.3402 - mean_absolute_error: 1.4718\n",
            "Epoch 86/100\n",
            " - 1s - loss: 4.5859 - mean_absolute_error: 1.5297\n",
            "Epoch 87/100\n",
            " - 1s - loss: 4.5944 - mean_absolute_error: 1.5191\n",
            "Epoch 88/100\n",
            " - 1s - loss: 4.5225 - mean_absolute_error: 1.4861\n",
            "Epoch 89/100\n",
            " - 1s - loss: 4.2603 - mean_absolute_error: 1.4565\n",
            "Epoch 90/100\n",
            " - 1s - loss: 4.4475 - mean_absolute_error: 1.4819\n",
            "Epoch 91/100\n",
            " - 1s - loss: 4.3600 - mean_absolute_error: 1.4848\n",
            "Epoch 92/100\n",
            " - 1s - loss: 4.3734 - mean_absolute_error: 1.4824\n",
            "Epoch 93/100\n",
            " - 1s - loss: 4.2919 - mean_absolute_error: 1.4624\n",
            "Epoch 94/100\n",
            " - 1s - loss: 4.2031 - mean_absolute_error: 1.4991\n",
            "Epoch 95/100\n",
            " - 1s - loss: 4.3855 - mean_absolute_error: 1.4776\n",
            "Epoch 96/100\n",
            " - 1s - loss: 4.1610 - mean_absolute_error: 1.4701\n",
            "Epoch 97/100\n",
            " - 1s - loss: 4.2621 - mean_absolute_error: 1.5019\n",
            "Epoch 98/100\n",
            " - 1s - loss: 4.1774 - mean_absolute_error: 1.4859\n",
            "Epoch 99/100\n",
            " - 1s - loss: 4.0312 - mean_absolute_error: 1.4283\n",
            "Epoch 100/100\n",
            " - 1s - loss: 3.9907 - mean_absolute_error: 1.3876\n"
          ],
          "name": "stdout"
        },
        {
          "output_type": "execute_result",
          "data": {
            "text/plain": [
              "<keras.callbacks.History at 0x7ff07add3d30>"
            ]
          },
          "metadata": {
            "tags": []
          },
          "execution_count": 5
        }
      ]
    },
    {
      "metadata": {
        "id": "yHODRSlI46W1",
        "colab_type": "code",
        "colab": {
          "base_uri": "https://localhost:8080/",
          "height": 34
        },
        "outputId": "35c0ccab-6398-4160-96b1-afa8e4d399aa"
      },
      "cell_type": "code",
      "source": [
        "mse, mae = model.evaluate(x_test, y_test, verbose=0)\n",
        "print(\"Средняя абсолютная ошибка (тысяч долларов):\", mae)"
      ],
      "execution_count": 6,
      "outputs": [
        {
          "output_type": "stream",
          "text": [
            "Средняя абсолютная ошибка (тысяч долларов): 2.25799223020965\n"
          ],
          "name": "stdout"
        }
      ]
    },
    {
      "metadata": {
        "id": "sX4Cpgg94-We",
        "colab_type": "code",
        "colab": {
          "base_uri": "https://localhost:8080/",
          "height": 85
        },
        "outputId": "ad720641-2ccf-4a9d-8f80-dce7e7d5f38d"
      },
      "cell_type": "code",
      "source": [
        "pred = model.predict(x_test)\n",
        "print(\"Предсказанная стоимость:\", pred[1][0], \", правильная стоимость:\", y_test[1])\n",
        "print(\"Предсказанная стоимость:\", pred[25][0], \", правильная стоимость:\", y_test[25])\n",
        "print(\"Предсказанная стоимость:\", pred[50][0], \", правильная стоимость:\", y_test[50])\n",
        "print(\"Предсказанная стоимость:\", pred[100][0], \", правильная стоимость:\", y_test[100])"
      ],
      "execution_count": 7,
      "outputs": [
        {
          "output_type": "stream",
          "text": [
            "Предсказанная стоимость: 17.915457 , правильная стоимость: 18.8\n",
            "Предсказанная стоимость: 23.342184 , правильная стоимость: 23.0\n",
            "Предсказанная стоимость: 36.374836 , правильная стоимость: 35.4\n",
            "Предсказанная стоимость: 30.555841 , правильная стоимость: 26.7\n"
          ],
          "name": "stdout"
        }
      ]
    }
  ]
}