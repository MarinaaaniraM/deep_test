{
  "nbformat": 4,
  "nbformat_minor": 0,
  "metadata": {
    "colab": {
      "name": "boston.ipynb",
      "version": "0.3.2",
      "provenance": [],
      "include_colab_link": true
    },
    "kernelspec": {
      "name": "python3",
      "display_name": "Python 3"
    }
  },
  "cells": [
    {
      "cell_type": "markdown",
      "metadata": {
        "id": "view-in-github",
        "colab_type": "text"
      },
      "source": [
        "<a href=\"https://colab.research.google.com/github/MarinaaaniraM/deep_test/blob/master/boston.ipynb\" target=\"_parent\"><img src=\"https://colab.research.google.com/assets/colab-badge.svg\" alt=\"Open In Colab\"/></a>"
      ]
    },
    {
      "metadata": {
        "id": "O06ZTTAbZrs3",
        "colab_type": "code",
        "colab": {}
      },
      "cell_type": "code",
      "source": [
        "from keras.datasets import boston_housing\n",
        "from keras.models import Sequential\n",
        "from keras.layers import Dense\n",
        "\n",
        "(x_train, y_train), (x_test, y_test) = boston_housing.load_data()"
      ],
      "execution_count": 0,
      "outputs": []
    },
    {
      "metadata": {
        "id": "RhNeJydGZxMP",
        "colab_type": "code",
        "colab": {}
      },
      "cell_type": "code",
      "source": [
        "# Среднее значение\n",
        "mean = x_train.mean(axis=0)\n",
        "# Стандартное отклонение\n",
        "std = x_train.std(axis=0)\n",
        "x_train -= mean\n",
        "x_train /= std\n",
        "x_test -= mean\n",
        "x_test /= std"
      ],
      "execution_count": 0,
      "outputs": []
    },
    {
      "metadata": {
        "id": "bybx08bJZy5V",
        "colab_type": "code",
        "colab": {}
      },
      "cell_type": "code",
      "source": [
        "model = Sequential()\n",
        "model.add(Dense(128, activation='relu', input_shape=(x_train.shape[1],)))\n",
        "model.add(Dense(1))\n",
        "model.compile(optimizer='adam', loss='mse', metrics=['mae'])"
      ],
      "execution_count": 0,
      "outputs": []
    },
    {
      "metadata": {
        "id": "z6tY7ZajZ0V4",
        "colab_type": "code",
        "outputId": "ea3467c7-60ce-462c-e45d-a26f42757993",
        "colab": {
          "base_uri": "https://localhost:8080/",
          "height": 3434
        }
      },
      "cell_type": "code",
      "source": [
        "model.fit(x_train, y_train, epochs=100, batch_size=1, verbose=2)"
      ],
      "execution_count": 0,
      "outputs": [
        {
          "output_type": "stream",
          "text": [
            "Epoch 1/100\n",
            " - 1s - loss: 328.9442 - mean_absolute_error: 15.3684\n",
            "Epoch 2/100\n",
            " - 0s - loss: 42.4071 - mean_absolute_error: 4.3145\n",
            "Epoch 3/100\n",
            " - 0s - loss: 26.9993 - mean_absolute_error: 3.5313\n",
            "Epoch 4/100\n",
            " - 0s - loss: 22.3496 - mean_absolute_error: 3.2830\n",
            "Epoch 5/100\n",
            " - 0s - loss: 19.3888 - mean_absolute_error: 3.1125\n",
            "Epoch 6/100\n",
            " - 0s - loss: 16.8294 - mean_absolute_error: 2.9217\n",
            "Epoch 7/100\n",
            " - 0s - loss: 15.1728 - mean_absolute_error: 2.7432\n",
            "Epoch 8/100\n",
            " - 0s - loss: 13.4092 - mean_absolute_error: 2.5615\n",
            "Epoch 9/100\n",
            " - 0s - loss: 11.7546 - mean_absolute_error: 2.4097\n",
            "Epoch 10/100\n",
            " - 0s - loss: 11.3635 - mean_absolute_error: 2.3857\n",
            "Epoch 11/100\n",
            " - 0s - loss: 10.8148 - mean_absolute_error: 2.2898\n",
            "Epoch 12/100\n",
            " - 0s - loss: 10.1597 - mean_absolute_error: 2.2124\n",
            "Epoch 13/100\n",
            " - 0s - loss: 9.6729 - mean_absolute_error: 2.1962\n",
            "Epoch 14/100\n",
            " - 0s - loss: 9.6241 - mean_absolute_error: 2.1637\n",
            "Epoch 15/100\n",
            " - 0s - loss: 9.3240 - mean_absolute_error: 2.1363\n",
            "Epoch 16/100\n",
            " - 0s - loss: 9.3822 - mean_absolute_error: 2.1471\n",
            "Epoch 17/100\n",
            " - 0s - loss: 8.9328 - mean_absolute_error: 2.1600\n",
            "Epoch 18/100\n",
            " - 0s - loss: 8.6098 - mean_absolute_error: 2.0260\n",
            "Epoch 19/100\n",
            " - 0s - loss: 8.5427 - mean_absolute_error: 2.0531\n",
            "Epoch 20/100\n",
            " - 0s - loss: 8.1864 - mean_absolute_error: 2.0222\n",
            "Epoch 21/100\n",
            " - 0s - loss: 8.1250 - mean_absolute_error: 2.0048\n",
            "Epoch 22/100\n",
            " - 0s - loss: 8.1760 - mean_absolute_error: 1.9925\n",
            "Epoch 23/100\n",
            " - 0s - loss: 8.0179 - mean_absolute_error: 2.0087\n",
            "Epoch 24/100\n",
            " - 0s - loss: 7.7901 - mean_absolute_error: 1.9486\n",
            "Epoch 25/100\n",
            " - 0s - loss: 7.8030 - mean_absolute_error: 1.9651\n",
            "Epoch 26/100\n",
            " - 0s - loss: 7.4362 - mean_absolute_error: 1.9114\n",
            "Epoch 27/100\n",
            " - 0s - loss: 7.4700 - mean_absolute_error: 1.9403\n",
            "Epoch 28/100\n",
            " - 0s - loss: 7.6288 - mean_absolute_error: 1.9373\n",
            "Epoch 29/100\n",
            " - 0s - loss: 7.3006 - mean_absolute_error: 1.9079\n",
            "Epoch 30/100\n",
            " - 0s - loss: 7.1111 - mean_absolute_error: 1.8744\n",
            "Epoch 31/100\n",
            " - 0s - loss: 7.4116 - mean_absolute_error: 1.9136\n",
            "Epoch 32/100\n",
            " - 0s - loss: 7.0749 - mean_absolute_error: 1.8754\n",
            "Epoch 33/100\n",
            " - 0s - loss: 6.8624 - mean_absolute_error: 1.8729\n",
            "Epoch 34/100\n",
            " - 0s - loss: 6.9194 - mean_absolute_error: 1.8479\n",
            "Epoch 35/100\n",
            " - 0s - loss: 6.8377 - mean_absolute_error: 1.8682\n",
            "Epoch 36/100\n",
            " - 0s - loss: 6.8112 - mean_absolute_error: 1.8586\n",
            "Epoch 37/100\n",
            " - 0s - loss: 6.7674 - mean_absolute_error: 1.8425\n",
            "Epoch 38/100\n",
            " - 0s - loss: 6.5956 - mean_absolute_error: 1.8241\n",
            "Epoch 39/100\n",
            " - 0s - loss: 6.5544 - mean_absolute_error: 1.8156\n",
            "Epoch 40/100\n",
            " - 0s - loss: 6.3743 - mean_absolute_error: 1.7911\n",
            "Epoch 41/100\n",
            " - 0s - loss: 6.4327 - mean_absolute_error: 1.7867\n",
            "Epoch 42/100\n",
            " - 0s - loss: 6.3155 - mean_absolute_error: 1.7878\n",
            "Epoch 43/100\n",
            " - 0s - loss: 6.5546 - mean_absolute_error: 1.8280\n",
            "Epoch 44/100\n",
            " - 0s - loss: 6.2663 - mean_absolute_error: 1.7452\n",
            "Epoch 45/100\n",
            " - 0s - loss: 6.0799 - mean_absolute_error: 1.7508\n",
            "Epoch 46/100\n",
            " - 0s - loss: 6.1753 - mean_absolute_error: 1.7664\n",
            "Epoch 47/100\n",
            " - 0s - loss: 6.2231 - mean_absolute_error: 1.7665\n",
            "Epoch 48/100\n",
            " - 0s - loss: 6.1337 - mean_absolute_error: 1.7535\n",
            "Epoch 49/100\n",
            " - 0s - loss: 6.0673 - mean_absolute_error: 1.7340\n",
            "Epoch 50/100\n",
            " - 0s - loss: 6.0709 - mean_absolute_error: 1.7549\n",
            "Epoch 51/100\n",
            " - 0s - loss: 5.8194 - mean_absolute_error: 1.7070\n",
            "Epoch 52/100\n",
            " - 0s - loss: 5.8415 - mean_absolute_error: 1.7071\n",
            "Epoch 53/100\n",
            " - 0s - loss: 5.7288 - mean_absolute_error: 1.6808\n",
            "Epoch 54/100\n",
            " - 0s - loss: 5.6238 - mean_absolute_error: 1.6997\n",
            "Epoch 55/100\n",
            " - 0s - loss: 5.7972 - mean_absolute_error: 1.7092\n",
            "Epoch 56/100\n",
            " - 0s - loss: 5.6537 - mean_absolute_error: 1.6837\n",
            "Epoch 57/100\n",
            " - 0s - loss: 5.7237 - mean_absolute_error: 1.6560\n",
            "Epoch 58/100\n",
            " - 0s - loss: 5.5282 - mean_absolute_error: 1.6634\n",
            "Epoch 59/100\n",
            " - 0s - loss: 5.5821 - mean_absolute_error: 1.6635\n",
            "Epoch 60/100\n",
            " - 0s - loss: 5.6534 - mean_absolute_error: 1.6507\n",
            "Epoch 61/100\n",
            " - 0s - loss: 5.5784 - mean_absolute_error: 1.6783\n",
            "Epoch 62/100\n",
            " - 0s - loss: 5.4680 - mean_absolute_error: 1.6515\n",
            "Epoch 63/100\n",
            " - 0s - loss: 5.3568 - mean_absolute_error: 1.6512\n",
            "Epoch 64/100\n",
            " - 0s - loss: 5.3420 - mean_absolute_error: 1.6584\n",
            "Epoch 65/100\n",
            " - 0s - loss: 5.2832 - mean_absolute_error: 1.6123\n",
            "Epoch 66/100\n",
            " - 0s - loss: 5.4393 - mean_absolute_error: 1.6589\n",
            "Epoch 67/100\n",
            " - 0s - loss: 5.3739 - mean_absolute_error: 1.6669\n",
            "Epoch 68/100\n",
            " - 0s - loss: 5.2574 - mean_absolute_error: 1.6130\n",
            "Epoch 69/100\n",
            " - 0s - loss: 5.1776 - mean_absolute_error: 1.6298\n",
            "Epoch 70/100\n",
            " - 0s - loss: 4.9855 - mean_absolute_error: 1.5790\n",
            "Epoch 71/100\n",
            " - 0s - loss: 4.9867 - mean_absolute_error: 1.5602\n",
            "Epoch 72/100\n",
            " - 0s - loss: 4.9107 - mean_absolute_error: 1.5723\n",
            "Epoch 73/100\n",
            " - 0s - loss: 4.9420 - mean_absolute_error: 1.6168\n",
            "Epoch 74/100\n",
            " - 0s - loss: 4.7681 - mean_absolute_error: 1.5552\n",
            "Epoch 75/100\n",
            " - 0s - loss: 4.9308 - mean_absolute_error: 1.5712\n",
            "Epoch 76/100\n",
            " - 0s - loss: 4.9869 - mean_absolute_error: 1.6299\n",
            "Epoch 77/100\n",
            " - 0s - loss: 4.7686 - mean_absolute_error: 1.5203\n",
            "Epoch 78/100\n",
            " - 0s - loss: 4.7409 - mean_absolute_error: 1.5725\n",
            "Epoch 79/100\n",
            " - 0s - loss: 4.8490 - mean_absolute_error: 1.6024\n",
            "Epoch 80/100\n",
            " - 0s - loss: 4.6434 - mean_absolute_error: 1.4991\n",
            "Epoch 81/100\n",
            " - 0s - loss: 4.8286 - mean_absolute_error: 1.5573\n",
            "Epoch 82/100\n",
            " - 0s - loss: 4.6882 - mean_absolute_error: 1.5489\n",
            "Epoch 83/100\n",
            " - 0s - loss: 4.7117 - mean_absolute_error: 1.5357\n",
            "Epoch 84/100\n",
            " - 0s - loss: 4.7316 - mean_absolute_error: 1.5405\n",
            "Epoch 85/100\n",
            " - 0s - loss: 4.4258 - mean_absolute_error: 1.4811\n",
            "Epoch 86/100\n",
            " - 0s - loss: 4.6874 - mean_absolute_error: 1.5447\n",
            "Epoch 87/100\n",
            " - 0s - loss: 4.7112 - mean_absolute_error: 1.5342\n",
            "Epoch 88/100\n",
            " - 0s - loss: 4.6354 - mean_absolute_error: 1.4972\n",
            "Epoch 89/100\n",
            " - 0s - loss: 4.3276 - mean_absolute_error: 1.4614\n",
            "Epoch 90/100\n",
            " - 0s - loss: 4.5633 - mean_absolute_error: 1.4959\n",
            "Epoch 91/100\n",
            " - 0s - loss: 4.4674 - mean_absolute_error: 1.4963\n",
            "Epoch 92/100\n",
            " - 0s - loss: 4.4840 - mean_absolute_error: 1.4953\n",
            "Epoch 93/100\n",
            " - 0s - loss: 4.4075 - mean_absolute_error: 1.4778\n",
            "Epoch 94/100\n",
            " - 0s - loss: 4.3055 - mean_absolute_error: 1.5084\n",
            "Epoch 95/100\n",
            " - 0s - loss: 4.5009 - mean_absolute_error: 1.5004\n",
            "Epoch 96/100\n",
            " - 0s - loss: 4.2562 - mean_absolute_error: 1.4860\n",
            "Epoch 97/100\n",
            " - 0s - loss: 4.3998 - mean_absolute_error: 1.5241\n",
            "Epoch 98/100\n",
            " - 0s - loss: 4.3045 - mean_absolute_error: 1.5064\n",
            "Epoch 99/100\n",
            " - 0s - loss: 4.1376 - mean_absolute_error: 1.4384\n",
            "Epoch 100/100\n",
            " - 0s - loss: 4.0864 - mean_absolute_error: 1.4076\n"
          ],
          "name": "stdout"
        },
        {
          "output_type": "execute_result",
          "data": {
            "text/plain": [
              "<keras.callbacks.History at 0x7f4725dc3f60>"
            ]
          },
          "metadata": {
            "tags": []
          },
          "execution_count": 8
        }
      ]
    },
    {
      "metadata": {
        "id": "KjtEhYf0Z2KW",
        "colab_type": "code",
        "outputId": "91ef8c41-2c26-4bc8-d0e6-dc8424d49489",
        "colab": {
          "base_uri": "https://localhost:8080/",
          "height": 34
        }
      },
      "cell_type": "code",
      "source": [
        "mse, mae = model.evaluate(x_test, y_test, verbose=0)\n",
        "print(\"Средняя абсолютная ошибка (тысяч долларов):\", mae)"
      ],
      "execution_count": 0,
      "outputs": [
        {
          "output_type": "stream",
          "text": [
            "Средняя абсолютная ошибка (тысяч долларов): 2.2564968595317767\n"
          ],
          "name": "stdout"
        }
      ]
    },
    {
      "metadata": {
        "id": "1aWWmiybZ31I",
        "colab_type": "code",
        "outputId": "1da57603-08e2-49e1-cdf8-c034563feda1",
        "colab": {
          "base_uri": "https://localhost:8080/",
          "height": 85
        }
      },
      "cell_type": "code",
      "source": [
        "pred = model.predict(x_test)\n",
        "print(\"Предсказанная стоимость:\", pred[1][0], \", правильная стоимость:\", y_test[1])\n",
        "print(\"Предсказанная стоимость:\", pred[25][0], \", правильная стоимость:\", y_test[25])\n",
        "print(\"Предсказанная стоимость:\", pred[50][0], \", правильная стоимость:\", y_test[50])\n",
        "print(\"Предсказанная стоимость:\", pred[100][0], \", правильная стоимость:\", y_test[100])"
      ],
      "execution_count": 0,
      "outputs": [
        {
          "output_type": "stream",
          "text": [
            "Предсказанная стоимость: 18.121384 , правильная стоимость: 18.8\n",
            "Предсказанная стоимость: 23.562246 , правильная стоимость: 23.0\n",
            "Предсказанная стоимость: 36.529972 , правильная стоимость: 35.4\n",
            "Предсказанная стоимость: 30.972029 , правильная стоимость: 26.7\n"
          ],
          "name": "stdout"
        }
      ]
    },
    {
      "metadata": {
        "id": "-ddbmJ-BZ_h_",
        "colab_type": "code",
        "outputId": "8913dd1c-270d-4549-ed74-eb50a928e7ab",
        "colab": {
          "base_uri": "https://localhost:8080/",
          "height": 51
        }
      },
      "cell_type": "code",
      "source": [
        "print(\"Сохраняем сеть\")\n",
        "# Сохраняем сеть для последующего использования\n",
        "# Генерируем описание модели в формате json\n",
        "model_json = model.to_json()\n",
        "json_file = open(\"boston_model.json\", \"w\")\n",
        "# Записываем архитектуру сети в файл\n",
        "json_file.write(model_json)\n",
        "json_file.close()\n",
        "# Записываем данные о весах в файл\n",
        "model.save_weights(\"boston_model.h5\")\n",
        "print(\"Сохранение сети завершено\")"
      ],
      "execution_count": 0,
      "outputs": [
        {
          "output_type": "stream",
          "text": [
            "Сохраняем сеть\n",
            "Сохранение сети завершено\n"
          ],
          "name": "stdout"
        }
      ]
    }
  ]
}