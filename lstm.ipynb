{
  "nbformat": 4,
  "nbformat_minor": 0,
  "metadata": {
    "colab": {
      "name": "lstm.ipynb",
      "version": "0.3.2",
      "provenance": [],
      "include_colab_link": true
    },
    "kernelspec": {
      "name": "python3",
      "display_name": "Python 3"
    },
    "accelerator": "GPU"
  },
  "cells": [
    {
      "cell_type": "markdown",
      "metadata": {
        "id": "view-in-github",
        "colab_type": "text"
      },
      "source": [
        "<a href=\"https://colab.research.google.com/github/MarinaaaniraM/deep_test/blob/master/lstm.ipynb\" target=\"_parent\"><img src=\"https://colab.research.google.com/assets/colab-badge.svg\" alt=\"Open In Colab\"/></a>"
      ]
    },
    {
      "metadata": {
        "id": "bOy0n3Z9puGB",
        "colab_type": "code",
        "colab": {
          "base_uri": "https://localhost:8080/",
          "height": 68
        },
        "outputId": "972706c4-94b7-437f-b467-1f1162e7c1ab"
      },
      "cell_type": "code",
      "source": [
        "import numpy as np\n",
        "from keras.preprocessing import sequence\n",
        "from keras.models import Sequential\n",
        "from keras.layers import Dense, Activation, Embedding\n",
        "from keras.layers import LSTM, SpatialDropout1D\n",
        "from keras.datasets import imdb\n",
        "\n",
        "# Устанавливаем seed для повторяемости результатов\n",
        "np.random.seed(42)\n",
        "# Максимальное количество слов (по частоте использования)\n",
        "max_features = 5000\n",
        "# Максимальная длина рецензии в словах\n",
        "maxlen = 80\n",
        "\n",
        "# Загружаем данные\n",
        "(X_train, y_train), (X_test, y_test) = imdb.load_data(num_words=max_features)"
      ],
      "execution_count": 1,
      "outputs": [
        {
          "output_type": "stream",
          "text": [
            "Using TensorFlow backend.\n"
          ],
          "name": "stderr"
        },
        {
          "output_type": "stream",
          "text": [
            "Downloading data from https://s3.amazonaws.com/text-datasets/imdb.npz\n",
            "17465344/17464789 [==============================] - 1s 0us/step\n"
          ],
          "name": "stdout"
        }
      ]
    },
    {
      "metadata": {
        "id": "GXY9uUTEx7AA",
        "colab_type": "code",
        "colab": {}
      },
      "cell_type": "code",
      "source": [
        "# Заполняем или обрезаем рецензии\n",
        "X_train = sequence.pad_sequences(X_train, maxlen=maxlen)\n",
        "X_test = sequence.pad_sequences(X_test, maxlen=maxlen)"
      ],
      "execution_count": 0,
      "outputs": []
    },
    {
      "metadata": {
        "id": "m6L-WrU9x9SB",
        "colab_type": "code",
        "colab": {}
      },
      "cell_type": "code",
      "source": [
        "# Создаем сеть\n",
        "model = Sequential()\n",
        "# Слой для векторного представления слов\n",
        "model.add(Embedding(max_features, 32))\n",
        "model.add(SpatialDropout1D(0.2))\n",
        "# Слой долго-краткосрочной памяти\n",
        "model.add(LSTM(100, dropout=0.2, recurrent_dropout=0.2)) \n",
        "# Полносвязный слой\n",
        "model.add(Dense(1, activation=\"sigmoid\"))"
      ],
      "execution_count": 0,
      "outputs": []
    },
    {
      "metadata": {
        "id": "BjIQepwOx_FH",
        "colab_type": "code",
        "colab": {}
      },
      "cell_type": "code",
      "source": [
        "# Копмилируем модель\n",
        "model.compile(loss='binary_crossentropy',\n",
        "              optimizer='adam',\n",
        "              metrics=['accuracy'])"
      ],
      "execution_count": 0,
      "outputs": []
    },
    {
      "metadata": {
        "id": "tWu94rLvyA2j",
        "colab_type": "code",
        "colab": {
          "base_uri": "https://localhost:8080/",
          "height": 306
        },
        "outputId": "ff11bd3e-ca0a-41ed-c414-62265e11cc99"
      },
      "cell_type": "code",
      "source": [
        "# Обучаем модель\n",
        "model.fit(X_train, y_train, batch_size=64, epochs=7,\n",
        "          validation_data=(X_test, y_test), verbose=2)\n",
        "# Проверяем качество обучения на тестовых данных\n",
        "scores = model.evaluate(X_test, y_test,\n",
        "                        batch_size=64)\n",
        "print(\"Точность на тестовых данных: %.2f%%\" % (scores[1] * 100))"
      ],
      "execution_count": 5,
      "outputs": [
        {
          "output_type": "stream",
          "text": [
            "Train on 25000 samples, validate on 25000 samples\n",
            "Epoch 1/7\n",
            " - 105s - loss: 0.5131 - acc: 0.7447 - val_loss: 0.3957 - val_acc: 0.8246\n",
            "Epoch 2/7\n",
            " - 104s - loss: 0.3753 - acc: 0.8402 - val_loss: 0.3869 - val_acc: 0.8303\n",
            "Epoch 3/7\n",
            " - 103s - loss: 0.3405 - acc: 0.8575 - val_loss: 0.3810 - val_acc: 0.8310\n",
            "Epoch 4/7\n",
            " - 104s - loss: 0.3147 - acc: 0.8734 - val_loss: 0.3757 - val_acc: 0.8332\n",
            "Epoch 5/7\n",
            " - 104s - loss: 0.2974 - acc: 0.8788 - val_loss: 0.3846 - val_acc: 0.8359\n",
            "Epoch 6/7\n",
            " - 104s - loss: 0.2785 - acc: 0.8872 - val_loss: 0.3937 - val_acc: 0.8321\n",
            "Epoch 7/7\n",
            " - 103s - loss: 0.2634 - acc: 0.8942 - val_loss: 0.3916 - val_acc: 0.8285\n",
            "25000/25000 [==============================] - 23s 933us/step\n",
            "Точность на тестовых данных: 82.85%\n"
          ],
          "name": "stdout"
        }
      ]
    }
  ]
}