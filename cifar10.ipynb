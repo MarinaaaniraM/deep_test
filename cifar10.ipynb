{
  "nbformat": 4,
  "nbformat_minor": 0,
  "metadata": {
    "colab": {
      "name": "cifar10.ipynb",
      "version": "0.3.2",
      "provenance": [],
      "collapsed_sections": [],
      "toc_visible": true,
      "include_colab_link": true
    },
    "kernelspec": {
      "name": "python3",
      "display_name": "Python 3"
    }
  },
  "cells": [
    {
      "cell_type": "markdown",
      "metadata": {
        "id": "view-in-github",
        "colab_type": "text"
      },
      "source": [
        "<a href=\"https://colab.research.google.com/github/MarinaaaniraM/deep_test/blob/master/cifar10.ipynb\" target=\"_parent\"><img src=\"https://colab.research.google.com/assets/colab-badge.svg\" alt=\"Open In Colab\"/></a>"
      ]
    },
    {
      "metadata": {
        "id": "ivuRWIECFR5h",
        "colab_type": "code",
        "outputId": "5f6f236c-3c5b-4c38-bcf4-e1f85102d6c6",
        "colab": {
          "base_uri": "https://localhost:8080/",
          "height": 34
        }
      },
      "cell_type": "code",
      "source": [
        "import numpy\n",
        "from keras.datasets import cifar10\n",
        "from keras.models import Sequential\n",
        "from keras.layers import Dense, Flatten, Activation\n",
        "from keras.layers import Dropout\n",
        "from keras.layers.convolutional import Conv2D, MaxPooling2D\n",
        "from keras.utils import np_utils\n",
        "from keras.optimizers import SGD"
      ],
      "execution_count": 0,
      "outputs": [
        {
          "output_type": "stream",
          "text": [
            "Using TensorFlow backend.\n"
          ],
          "name": "stderr"
        }
      ]
    },
    {
      "metadata": {
        "id": "PO73TTCcFhdA",
        "colab_type": "code",
        "outputId": "f149c96c-0ddd-4c95-80b0-57f37a9934d5",
        "colab": {
          "base_uri": "https://localhost:8080/",
          "height": 51
        }
      },
      "cell_type": "code",
      "source": [
        "# Задаем seed для повторяемости результатов\n",
        "numpy.random.seed(42)\n",
        "\n",
        "# Загружаем данные\n",
        "(X_train, y_train), (X_test, y_test) = cifar10.load_data()\n",
        "# Размер мини-выборки\n",
        "batch_size = 32\n",
        "# Количество классов изображений\n",
        "nb_classes = 10\n",
        "# Количество эпох для обучения\n",
        "nb_epoch = 25\n",
        "# Размер изображений\n",
        "img_rows, img_cols = 32, 32\n",
        "# Количество каналов в изображении: RGB\n",
        "img_channels = 3"
      ],
      "execution_count": 0,
      "outputs": [
        {
          "output_type": "stream",
          "text": [
            "Downloading data from https://www.cs.toronto.edu/~kriz/cifar-10-python.tar.gz\n",
            "170500096/170498071 [==============================] - 29s 0us/step\n"
          ],
          "name": "stdout"
        }
      ]
    },
    {
      "metadata": {
        "id": "x4v9MY3OFjwd",
        "colab_type": "code",
        "colab": {}
      },
      "cell_type": "code",
      "source": [
        "# Нормализуем данные\n",
        "X_train = X_train.astype('float32')\n",
        "X_test = X_test.astype('float32')\n",
        "X_train /= 255\n",
        "X_test /= 255\n",
        "\n",
        "# Преобразуем метки в категории\n",
        "Y_train = np_utils.to_categorical(y_train, nb_classes)\n",
        "Y_test = np_utils.to_categorical(y_test, nb_classes)"
      ],
      "execution_count": 0,
      "outputs": []
    },
    {
      "metadata": {
        "id": "a0rlPi2wFlsW",
        "colab_type": "code",
        "colab": {}
      },
      "cell_type": "code",
      "source": [
        "# Создаем последовательную модель\n",
        "model = Sequential()\n",
        "# Первый сверточный слой\n",
        "model.add(Conv2D(32, (3, 3), padding='same',\n",
        "                        input_shape=(32, 32, 3), activation='relu'))\n",
        "# Второй сверточный слой\n",
        "model.add(Conv2D(32, (3, 3), activation='relu', padding='same'))\n",
        "# Первый слой подвыборки\n",
        "model.add(MaxPooling2D(pool_size=(2, 2)))\n",
        "# Слой регуляризации Dropout\n",
        "model.add(Dropout(0.25))\n",
        "\n",
        "# Третий сверточный слой\n",
        "model.add(Conv2D(64, (3, 3), padding='same', activation='relu'))\n",
        "# Четвертый сверточный слой\n",
        "model.add(Conv2D(64, (3, 3), activation='relu'))\n",
        "# Второй слой подвыборки\n",
        "model.add(MaxPooling2D(pool_size=(2, 2)))\n",
        "# Слой регуляризации Dropout\n",
        "model.add(Dropout(0.25))\n",
        "# Слой преобразования данных из 2D представления в плоское\n",
        "model.add(Flatten())\n",
        "# Полносвязный слой для классификации\n",
        "model.add(Dense(512, activation='relu'))\n",
        "# Слой регуляризации Dropout\n",
        "model.add(Dropout(0.5))\n",
        "# Выходной полносвязный слой\n",
        "model.add(Dense(nb_classes, activation='softmax'))"
      ],
      "execution_count": 0,
      "outputs": []
    },
    {
      "metadata": {
        "id": "V-z1l5C5Fofz",
        "colab_type": "code",
        "colab": {}
      },
      "cell_type": "code",
      "source": [
        "# Задаем параметры оптимизации\n",
        "sgd = SGD(lr=0.01, decay=1e-6, momentum=0.9, nesterov=True)\n",
        "model.compile(loss='categorical_crossentropy',\n",
        "              optimizer=sgd,\n",
        "              metrics=['accuracy'])"
      ],
      "execution_count": 0,
      "outputs": []
    },
    {
      "metadata": {
        "id": "lVDwYZHgFqge",
        "colab_type": "code",
        "outputId": "af257095-c8b7-4e72-adf4-a9626878eeda",
        "colab": {
          "base_uri": "https://localhost:8080/",
          "height": 901
        }
      },
      "cell_type": "code",
      "source": [
        "# Обучаем модель\n",
        "model.fit(X_train, Y_train,\n",
        "              batch_size=batch_size,\n",
        "              epochs=nb_epoch,\n",
        "              validation_split=0.1,\n",
        "              shuffle=True,\n",
        "              verbose=2)"
      ],
      "execution_count": 0,
      "outputs": [
        {
          "output_type": "stream",
          "text": [
            "Train on 45000 samples, validate on 5000 samples\n",
            "Epoch 1/25\n",
            " - 270s - loss: 1.7743 - acc: 0.3470 - val_loss: 1.3388 - val_acc: 0.5144\n",
            "Epoch 2/25\n",
            " - 269s - loss: 1.3174 - acc: 0.5258 - val_loss: 1.1457 - val_acc: 0.5910\n",
            "Epoch 3/25\n",
            " - 271s - loss: 1.1511 - acc: 0.5901 - val_loss: 1.0422 - val_acc: 0.6294\n",
            "Epoch 4/25\n",
            " - 270s - loss: 1.0470 - acc: 0.6298 - val_loss: 0.8911 - val_acc: 0.6814\n",
            "Epoch 5/25\n",
            " - 269s - loss: 0.9739 - acc: 0.6560 - val_loss: 0.8673 - val_acc: 0.6986\n",
            "Epoch 6/25\n",
            " - 268s - loss: 0.9094 - acc: 0.6794 - val_loss: 0.7922 - val_acc: 0.7238\n",
            "Epoch 7/25\n",
            " - 268s - loss: 0.8656 - acc: 0.6941 - val_loss: 0.7999 - val_acc: 0.7150\n",
            "Epoch 8/25\n",
            " - 270s - loss: 0.8265 - acc: 0.7088 - val_loss: 0.8159 - val_acc: 0.7244\n",
            "Epoch 9/25\n",
            " - 270s - loss: 0.8013 - acc: 0.7198 - val_loss: 0.7887 - val_acc: 0.7254\n",
            "Epoch 10/25\n",
            " - 268s - loss: 0.7731 - acc: 0.7312 - val_loss: 0.8090 - val_acc: 0.7310\n",
            "Epoch 11/25\n",
            " - 269s - loss: 0.7553 - acc: 0.7381 - val_loss: 0.7406 - val_acc: 0.7488\n",
            "Epoch 12/25\n",
            " - 270s - loss: 0.7380 - acc: 0.7430 - val_loss: 0.7688 - val_acc: 0.7372\n",
            "Epoch 13/25\n",
            " - 268s - loss: 0.7138 - acc: 0.7517 - val_loss: 0.7168 - val_acc: 0.7650\n",
            "Epoch 14/25\n",
            " - 268s - loss: 0.7065 - acc: 0.7562 - val_loss: 0.7295 - val_acc: 0.7456\n",
            "Epoch 15/25\n",
            " - 267s - loss: 0.6920 - acc: 0.7576 - val_loss: 0.7659 - val_acc: 0.7396\n",
            "Epoch 16/25\n",
            " - 268s - loss: 0.6865 - acc: 0.7645 - val_loss: 0.7171 - val_acc: 0.7592\n",
            "Epoch 17/25\n",
            " - 270s - loss: 0.6725 - acc: 0.7712 - val_loss: 0.8485 - val_acc: 0.7166\n",
            "Epoch 18/25\n",
            " - 269s - loss: 0.6683 - acc: 0.7701 - val_loss: 0.7317 - val_acc: 0.7580\n",
            "Epoch 19/25\n",
            " - 268s - loss: 0.6456 - acc: 0.7764 - val_loss: 0.6745 - val_acc: 0.7768\n",
            "Epoch 20/25\n",
            " - 267s - loss: 0.6570 - acc: 0.7729 - val_loss: 0.7338 - val_acc: 0.7514\n",
            "Epoch 21/25\n",
            " - 267s - loss: 0.6451 - acc: 0.7800 - val_loss: 0.7613 - val_acc: 0.7554\n",
            "Epoch 22/25\n",
            " - 269s - loss: 0.6509 - acc: 0.7770 - val_loss: 0.7616 - val_acc: 0.7502\n",
            "Epoch 23/25\n",
            " - 268s - loss: 0.6426 - acc: 0.7804 - val_loss: 0.7326 - val_acc: 0.7606\n",
            "Epoch 24/25\n",
            " - 267s - loss: 0.6497 - acc: 0.7817 - val_loss: 0.7062 - val_acc: 0.7700\n",
            "Epoch 25/25\n",
            " - 268s - loss: 0.6293 - acc: 0.7868 - val_loss: 0.7229 - val_acc: 0.7648\n"
          ],
          "name": "stdout"
        },
        {
          "output_type": "execute_result",
          "data": {
            "text/plain": [
              "<keras.callbacks.History at 0x7f78c7eace48>"
            ]
          },
          "metadata": {
            "tags": []
          },
          "execution_count": 6
        }
      ]
    },
    {
      "metadata": {
        "id": "fEs6mkuEFsgl",
        "colab_type": "code",
        "outputId": "cb13b557-0cef-478d-fbc4-daa1cd7a5ae3",
        "colab": {
          "base_uri": "https://localhost:8080/",
          "height": 34
        }
      },
      "cell_type": "code",
      "source": [
        "# Оцениваем качество обучения модели на тестовых данных\n",
        "scores = model.evaluate(X_test, Y_test, verbose=0)\n",
        "print(\"Точность работы на тестовых данных: %.2f%%\" % (scores[1]*100))"
      ],
      "execution_count": 0,
      "outputs": [
        {
          "output_type": "stream",
          "text": [
            "Точность работы на тестовых данных: 74.73%\n"
          ],
          "name": "stdout"
        }
      ]
    },
    {
      "metadata": {
        "id": "oxbQ5SUQFu0N",
        "colab_type": "code",
        "colab": {}
      },
      "cell_type": "code",
      "source": [
        "print(\"Сохраняем сеть\")\n",
        "# Сохраняем сеть для последующего использования\n",
        "# Генерируем описание модели в формате json\n",
        "model_json = model.to_json()\n",
        "json_file = open(\"cifar10_model.json\", \"w\")\n",
        "# Записываем архитектуру сети в файл\n",
        "json_file.write(model_json)\n",
        "json_file.close()\n",
        "# Записываем данные о весах в файл\n",
        "model.save_weights(\"cifar10_model.h5\")\n",
        "print(\"Сохранение сети завершено\")"
      ],
      "execution_count": 0,
      "outputs": []
    }
  ]
}